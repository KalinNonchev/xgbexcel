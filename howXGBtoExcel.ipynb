{
 "cells": [
  {
   "cell_type": "code",
   "execution_count": 1,
   "id": "7d03fbe7-e802-4ca4-a8f9-fc72e0f10d7c",
   "metadata": {},
   "outputs": [],
   "source": [
    "from xgbexcel import XGBtoExcel"
   ]
  },
  {
   "cell_type": "code",
   "execution_count": 2,
   "id": "6ef760c0-e67d-42d8-9db1-eb5108727294",
   "metadata": {},
   "outputs": [],
   "source": [
    "import numpy as np\n",
    "from xgboost import XGBRegressor\n",
    "import random\n",
    "random.seed(13)"
   ]
  },
  {
   "cell_type": "code",
   "execution_count": 3,
   "id": "c0279a20-6bb8-4d26-938b-10e769c223aa",
   "metadata": {},
   "outputs": [
    {
     "data": {
      "text/plain": [
       "((100, 2), (100,))"
      ]
     },
     "execution_count": 3,
     "metadata": {},
     "output_type": "execute_result"
    }
   ],
   "source": [
    "X_train, y_train = np.random.randint(0, 1000, (100, 2)), np.random.randint(0, 10, 100)\n",
    "X_train.shape, y_train.shape"
   ]
  },
  {
   "cell_type": "code",
   "execution_count": 4,
   "id": "331ea221-9b5a-45b9-8aa7-90e9c15f0e5d",
   "metadata": {},
   "outputs": [],
   "source": [
    "model = XGBRegressor(n_estimators=2, max_depth=1)"
   ]
  },
  {
   "cell_type": "code",
   "execution_count": 5,
   "id": "12e0a0b0-03a4-4633-8df5-a19f2ec1bf8b",
   "metadata": {},
   "outputs": [
    {
     "data": {
      "text/plain": [
       "XGBRegressor(base_score=0.5, booster='gbtree', callbacks=None,\n",
       "             colsample_bylevel=1, colsample_bynode=1, colsample_bytree=1,\n",
       "             early_stopping_rounds=None, enable_categorical=False,\n",
       "             eval_metric=None, gamma=0, gpu_id=-1, grow_policy='depthwise',\n",
       "             importance_type=None, interaction_constraints='',\n",
       "             learning_rate=0.300000012, max_bin=256, max_cat_to_onehot=4,\n",
       "             max_delta_step=0, max_depth=1, max_leaves=0, min_child_weight=1,\n",
       "             missing=nan, monotone_constraints='()', n_estimators=2, n_jobs=0,\n",
       "             num_parallel_tree=1, predictor='auto', random_state=0, reg_alpha=0,\n",
       "             reg_lambda=1, ...)"
      ]
     },
     "execution_count": 5,
     "metadata": {},
     "output_type": "execute_result"
    }
   ],
   "source": [
    "model.fit(X_train, y_train)"
   ]
  },
  {
   "cell_type": "code",
   "execution_count": 6,
   "id": "0661f7ba-e729-4812-9cac-e11b2a688b40",
   "metadata": {},
   "outputs": [
    {
     "data": {
      "text/plain": [
       "<xgbexcel.convert.XGBtoExcel at 0x7f79c5b74b70>"
      ]
     },
     "execution_count": 6,
     "metadata": {},
     "output_type": "execute_result"
    }
   ],
   "source": [
    "xgb_excel_expr = XGBtoExcel(model)\n",
    "xgb_excel_expr"
   ]
  },
  {
   "cell_type": "code",
   "execution_count": 7,
   "id": "d3dd7450-9d7c-4e29-b130-e659b9f687b3",
   "metadata": {},
   "outputs": [
    {
     "data": {
      "text/plain": [
       "'((IF((x2<=130.5),1.76666677,1.13870966)+IF((x2<=130.5),1.29555547,0.800770104))+0.5)'"
      ]
     },
     "execution_count": 7,
     "metadata": {},
     "output_type": "execute_result"
    }
   ],
   "source": [
    "xgb_excel_expr.expression"
   ]
  },
  {
   "cell_type": "code",
   "execution_count": 8,
   "id": "9c558916-7ecb-4d84-9761-785717726364",
   "metadata": {},
   "outputs": [
    {
     "name": "stdout",
     "output_type": "stream",
     "text": [
      "Saved!\n"
     ]
    }
   ],
   "source": [
    "xgb_excel_expr.save_expr('dummy.txt')"
   ]
  },
  {
   "cell_type": "code",
   "execution_count": 9,
   "id": "5ffc6849-66d8-4d1b-842e-87caac4537f8",
   "metadata": {},
   "outputs": [],
   "source": [
    "# remove file\n",
    "# !rm dummy.txt"
   ]
  },
  {
   "cell_type": "code",
   "execution_count": null,
   "id": "fea853fc-02ad-44ba-9be5-8be44e9be139",
   "metadata": {},
   "outputs": [],
   "source": []
  }
 ],
 "metadata": {
  "kernelspec": {
   "display_name": "Python 3 (ipykernel)",
   "language": "python",
   "name": "python3"
  },
  "language_info": {
   "codemirror_mode": {
    "name": "ipython",
    "version": 3
   },
   "file_extension": ".py",
   "mimetype": "text/x-python",
   "name": "python",
   "nbconvert_exporter": "python",
   "pygments_lexer": "ipython3",
   "version": "3.7.3"
  }
 },
 "nbformat": 4,
 "nbformat_minor": 5
}

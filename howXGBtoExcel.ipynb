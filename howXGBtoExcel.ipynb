{
 "cells": [
  {
   "cell_type": "code",
   "execution_count": null,
   "id": "7d03fbe7-e802-4ca4-a8f9-fc72e0f10d7c",
   "metadata": {},
   "outputs": [],
   "source": [
    "from xgbexcel import XGBtoExcel"
   ]
  },
  {
   "cell_type": "code",
   "execution_count": null,
   "id": "6ef760c0-e67d-42d8-9db1-eb5108727294",
   "metadata": {},
   "outputs": [],
   "source": [
    "import numpy as np\n",
    "from xgboost import XGBRegressor\n",
    "import random\n",
    "random.seed(13)"
   ]
  },
  {
   "cell_type": "code",
   "execution_count": null,
   "id": "c0279a20-6bb8-4d26-938b-10e769c223aa",
   "metadata": {},
   "outputs": [],
   "source": [
    "X, y = np.random.randint(0, 10, (100, 2)), np.random.randint(0, 1, 100)\n",
    "X.shape, y.shape"
   ]
  },
  {
   "cell_type": "code",
   "execution_count": null,
   "id": "331ea221-9b5a-45b9-8aa7-90e9c15f0e5d",
   "metadata": {},
   "outputs": [],
   "source": [
    "model = XGBRegressor(n_estimators=4, max_depth=10)"
   ]
  },
  {
   "cell_type": "code",
   "execution_count": null,
   "id": "12e0a0b0-03a4-4633-8df5-a19f2ec1bf8b",
   "metadata": {},
   "outputs": [],
   "source": [
    "model.fit(X, y)"
   ]
  },
  {
   "cell_type": "code",
   "execution_count": null,
   "id": "0661f7ba-e729-4812-9cac-e11b2a688b40",
   "metadata": {},
   "outputs": [],
   "source": [
    "xgb_excel_expr = XGBtoExcel(model)\n",
    "xgb_excel_expr"
   ]
  },
  {
   "cell_type": "code",
   "execution_count": null,
   "id": "d3dd7450-9d7c-4e29-b130-e659b9f687b3",
   "metadata": {},
   "outputs": [],
   "source": [
    "xgb_excel_expr.expression"
   ]
  },
  {
   "cell_type": "code",
   "execution_count": null,
   "id": "9c558916-7ecb-4d84-9761-785717726364",
   "metadata": {},
   "outputs": [],
   "source": [
    "xgb_excel_expr.save_expr('dummy.txt')"
   ]
  },
  {
   "cell_type": "code",
   "execution_count": null,
   "id": "5ffc6849-66d8-4d1b-842e-87caac4537f8",
   "metadata": {},
   "outputs": [],
   "source": [
    "# remove file\n",
    "# !rm dummy.txt"
   ]
  },
  {
   "cell_type": "code",
   "execution_count": null,
   "id": "fea853fc-02ad-44ba-9be5-8be44e9be139",
   "metadata": {},
   "outputs": [],
   "source": []
  }
 ],
 "metadata": {
  "kernelspec": {
   "display_name": "Python 3 (ipykernel)",
   "language": "python",
   "name": "python3"
  },
  "language_info": {
   "codemirror_mode": {
    "name": "ipython",
    "version": 3
   },
   "file_extension": ".py",
   "mimetype": "text/x-python",
   "name": "python",
   "nbconvert_exporter": "python",
   "pygments_lexer": "ipython3",
   "version": "3.7.3"
  }
 },
 "nbformat": 4,
 "nbformat_minor": 5
}
